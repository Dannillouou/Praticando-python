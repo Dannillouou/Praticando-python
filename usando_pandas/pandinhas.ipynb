{
 "cells": [
  {
   "cell_type": "code",
   "execution_count": 19,
   "metadata": {},
   "outputs": [
    {
     "data": {
      "text/plain": [
       "'e:\\\\Users\\\\B51995\\\\Desktop\\\\Praticando-python\\\\usando_pandas'"
      ]
     },
     "execution_count": 19,
     "metadata": {},
     "output_type": "execute_result"
    }
   ],
   "source": [
    "import pandas as pd\n",
    "\n",
    "# usando numeros aleatorios para fazer um dataframe\n",
    "import random\n",
    "\n",
    "#usando o alfabeto\n",
    "import string\n",
    "\n",
    "# mudando pasta de trabalho\n",
    "import os\n",
    "os.getcwd()"
   ]
  },
  {
   "cell_type": "code",
   "execution_count": 20,
   "metadata": {},
   "outputs": [
    {
     "name": "stdout",
     "output_type": "stream",
     "text": [
      "1\n",
      "7\n",
      "2\n",
      "42\n",
      "8\n",
      "7\n",
      "90\n",
      "41\n"
     ]
    }
   ],
   "source": [
    "# series in pandas\n",
    "serie = [1, 7, 2, 42, 8, 7, 90, 41]\n",
    "\n",
    "# funciona como uma espécie de lista\n",
    "variavel = pd.Series(serie)\n",
    "\n",
    "# é possível iterar sobre\n",
    "for valor in variavel:\n",
    "  print(valor)"
   ]
  },
  {
   "cell_type": "code",
   "execution_count": 21,
   "metadata": {},
   "outputs": [
    {
     "name": "stdout",
     "output_type": "stream",
     "text": [
      "a     1\n",
      "b     7\n",
      "c     2\n",
      "d    42\n",
      "e     8\n",
      "f     7\n",
      "g    90\n",
      "h    41\n",
      "dtype: int64\n",
      "\n",
      "\n",
      "day1    300\n",
      "day2    250\n",
      "day3    325\n",
      "dtype: int64\n",
      "\n",
      "\n",
      "day1    300\n",
      "day2    250\n",
      "dtype: int64\n",
      "\n",
      "\n"
     ]
    }
   ],
   "source": [
    "alfabeto = list(string.ascii_lowercase)\n",
    "\n",
    "# é possível mudar os labels de cada valor\n",
    "variavel = pd.Series(serie, index = alfabeto[0:len(variavel)])\n",
    "print(variavel)\n",
    "print(\"\\n\")\n",
    "\n",
    "# funciona como um dicionario\n",
    "# aceita dicionario como entrada para fazer uma series\n",
    "calorias = {\"day1\": 300, \"day2\":250, \"day3\": 325}\n",
    "variavel = pd.Series(calorias)\n",
    "print(variavel)\n",
    "print(\"\\n\")\n",
    "\n",
    "# especificando somente os indices que quisermos\n",
    "variavel = pd.Series(calorias, index = [\"day1\", \"day2\"])\n",
    "print(variavel)\n",
    "print(\"\\n\")"
   ]
  },
  {
   "cell_type": "code",
   "execution_count": 22,
   "metadata": {},
   "outputs": [
    {
     "name": "stdout",
     "output_type": "stream",
     "text": [
      "        calories  duration\n",
      "Dia 0        408        49\n",
      "Dia 1        325        95\n",
      "Dia 2        268       108\n",
      "Dia 3        382        83\n",
      "Dia 4        252        91\n",
      "...          ...       ...\n",
      "Dia 95       485        34\n",
      "Dia 96       392       124\n",
      "Dia 97       272        16\n",
      "Dia 98       279       111\n",
      "Dia 99       286       101\n",
      "\n",
      "[100 rows x 2 columns]\n"
     ]
    }
   ],
   "source": [
    "# em pandas os datasets são chamados dataframes e são\n",
    "# a junção de várias séries, cada série sendo uma coluna\n",
    "lista_calorias = []\n",
    "lista_duracao = []\n",
    "lista_labels = []\n",
    "\n",
    "for i in range(100):\n",
    "  lista_calorias.append(random.randint(250,500))\n",
    "  lista_duracao.append(random.randint(15,150))\n",
    "  lista_labels.append(\"Dia \" + str(i))\n",
    "\n",
    "dados_exercicio = {\n",
    "  \"calories\": lista_calorias,\n",
    "  \"duration\": lista_duracao\n",
    "}\n",
    "\n",
    "variavel = pd.DataFrame(dados_exercicio, index = lista_labels)\n",
    "\n",
    "print(variavel)"
   ]
  },
  {
   "cell_type": "code",
   "execution_count": 23,
   "metadata": {},
   "outputs": [
    {
     "name": "stdout",
     "output_type": "stream",
     "text": [
      "    calories  duration\n",
      "0        408        49\n",
      "1        325        95\n",
      "2        268       108\n",
      "3        382        83\n",
      "4        252        91\n",
      "..       ...       ...\n",
      "95       485        34\n",
      "96       392       124\n",
      "97       272        16\n",
      "98       279       111\n",
      "99       286       101\n",
      "\n",
      "[100 rows x 2 columns]\n",
      "Usando o loc\n",
      "calories    408\n",
      "duration     49\n",
      "Name: Dia 0, dtype: int64\n",
      "       calories  duration\n",
      "Dia 0       408        49\n",
      "Dia 1       325        95\n",
      "Dia 2       268       108\n",
      "Dia 3       382        83\n",
      "Dia 4       252        91\n",
      "Dia 5       479        25\n",
      "Dia 6       426       109\n",
      "Dia 7       376        29\n",
      "Dia 8       308        20\n",
      "Dia 9       342        86\n"
     ]
    }
   ],
   "source": [
    "# um DataFrame é um array bidimensional com linhas e colunas\n",
    "\n",
    "print(pd.DataFrame(dados_exercicio))\n",
    "\n",
    "# mudando labels do dataframe\n",
    "dataframe = pd.DataFrame(dados_exercicio, index=lista_labels)\n",
    "\n",
    "# pandas usa o atributo loc para retornar uma ou mais\n",
    "# colunas específicadas\n",
    "# retorna uma serie em panda\n",
    "print(\"Usando o loc\")\n",
    "\n",
    "print(dataframe.loc[\"Dia 0\"]) # printa informações da linha\n",
    "\n",
    "print(dataframe.loc[[\"Dia 0\", \"Dia 1\", \"Dia 2\", \"Dia 3\", \"Dia 4\", \"Dia 5\", \"Dia 6\", \"Dia 7\", \"Dia 8\", \"Dia 9\"]]) # printa a lista de linhas"
   ]
  },
  {
   "cell_type": "code",
   "execution_count": 24,
   "metadata": {},
   "outputs": [],
   "source": [
    "# lendo arquivo .csv\n",
    "\n",
    "mtcars = pd.read_csv(\"mtcars.csv\")"
   ]
  },
  {
   "cell_type": "code",
   "execution_count": 25,
   "metadata": {},
   "outputs": [],
   "source": [
    "# lendo arquivo .json\n",
    "\n",
    "pokedex = pd.read_json(\"pokedex.json\")"
   ]
  },
  {
   "cell_type": "code",
   "execution_count": 26,
   "metadata": {},
   "outputs": [
    {
     "name": "stdout",
     "output_type": "stream",
     "text": [
      "<class 'pandas.core.frame.DataFrame'>\n",
      "RangeIndex: 32 entries, 0 to 31\n",
      "Data columns (total 12 columns):\n",
      " #   Column  Non-Null Count  Dtype  \n",
      "---  ------  --------------  -----  \n",
      " 0   model   32 non-null     object \n",
      " 1   mpg     32 non-null     float64\n",
      " 2   cyl     32 non-null     int64  \n",
      " 3   disp    32 non-null     float64\n",
      " 4   hp      32 non-null     int64  \n",
      " 5   drat    32 non-null     float64\n",
      " 6   wt      32 non-null     float64\n",
      " 7   qsec    32 non-null     float64\n",
      " 8   vs      32 non-null     int64  \n",
      " 9   am      32 non-null     int64  \n",
      " 10  gear    32 non-null     int64  \n",
      " 11  carb    32 non-null     int64  \n",
      "dtypes: float64(5), int64(6), object(1)\n",
      "memory usage: 3.1+ KB\n",
      "<class 'pandas.core.frame.DataFrame'>\n",
      "RangeIndex: 809 entries, 0 to 808\n",
      "Data columns (total 4 columns):\n",
      " #   Column  Non-Null Count  Dtype \n",
      "---  ------  --------------  ----- \n",
      " 0   id      809 non-null    int64 \n",
      " 1   name    809 non-null    object\n",
      " 2   type    809 non-null    object\n",
      " 3   base    809 non-null    object\n",
      "dtypes: int64(1), object(3)\n",
      "memory usage: 25.4+ KB\n",
      "   id                                               name             type  \\\n",
      "0   1  {'english': 'Bulbasaur', 'japanese': 'フシギダネ', ...  [Grass, Poison]   \n",
      "1   2  {'english': 'Ivysaur', 'japanese': 'フシギソウ', 'c...  [Grass, Poison]   \n",
      "2   3  {'english': 'Venusaur', 'japanese': 'フシギバナ', '...  [Grass, Poison]   \n",
      "3   4  {'english': 'Charmander', 'japanese': 'ヒトカゲ', ...           [Fire]   \n",
      "4   5  {'english': 'Charmeleon', 'japanese': 'リザード', ...           [Fire]   \n",
      "5   6  {'english': 'Charizard', 'japanese': 'リザードン', ...   [Fire, Flying]   \n",
      "6   7  {'english': 'Squirtle', 'japanese': 'ゼニガメ', 'c...          [Water]   \n",
      "7   8  {'english': 'Wartortle', 'japanese': 'カメール', '...          [Water]   \n",
      "8   9  {'english': 'Blastoise', 'japanese': 'カメックス', ...          [Water]   \n",
      "9  10  {'english': 'Caterpie', 'japanese': 'キャタピー', '...            [Bug]   \n",
      "\n",
      "                                                base  \n",
      "0  {'HP': 45, 'Attack': 49, 'Defense': 49, 'Sp. A...  \n",
      "1  {'HP': 60, 'Attack': 62, 'Defense': 63, 'Sp. A...  \n",
      "2  {'HP': 80, 'Attack': 82, 'Defense': 83, 'Sp. A...  \n",
      "3  {'HP': 39, 'Attack': 52, 'Defense': 43, 'Sp. A...  \n",
      "4  {'HP': 58, 'Attack': 64, 'Defense': 58, 'Sp. A...  \n",
      "5  {'HP': 78, 'Attack': 84, 'Defense': 78, 'Sp. A...  \n",
      "6  {'HP': 44, 'Attack': 48, 'Defense': 65, 'Sp. A...  \n",
      "7  {'HP': 59, 'Attack': 63, 'Defense': 80, 'Sp. A...  \n",
      "8  {'HP': 79, 'Attack': 83, 'Defense': 100, 'Sp. ...  \n",
      "9  {'HP': 45, 'Attack': 30, 'Defense': 35, 'Sp. A...  \n",
      "               model   mpg  cyl   disp   hp  drat     wt   qsec  vs  am  gear  \\\n",
      "22       AMC Javelin  15.2    8  304.0  150  3.15  3.435  17.30   0   0     3   \n",
      "23        Camaro Z28  13.3    8  350.0  245  3.73  3.840  15.41   0   0     3   \n",
      "24  Pontiac Firebird  19.2    8  400.0  175  3.08  3.845  17.05   0   0     3   \n",
      "25         Fiat X1-9  27.3    4   79.0   66  4.08  1.935  18.90   1   1     4   \n",
      "26     Porsche 914-2  26.0    4  120.3   91  4.43  2.140  16.70   0   1     5   \n",
      "27      Lotus Europa  30.4    4   95.1  113  3.77  1.513  16.90   1   1     5   \n",
      "28    Ford Pantera L  15.8    8  351.0  264  4.22  3.170  14.50   0   1     5   \n",
      "29      Ferrari Dino  19.7    6  145.0  175  3.62  2.770  15.50   0   1     5   \n",
      "30     Maserati Bora  15.0    8  301.0  335  3.54  3.570  14.60   0   1     5   \n",
      "31        Volvo 142E  21.4    4  121.0  109  4.11  2.780  18.60   1   1     4   \n",
      "\n",
      "    carb  \n",
      "22     2  \n",
      "23     4  \n",
      "24     2  \n",
      "25     1  \n",
      "26     2  \n",
      "27     2  \n",
      "28     4  \n",
      "29     6  \n",
      "30     8  \n",
      "31     2  \n"
     ]
    }
   ],
   "source": [
    "# informações sobre o dataframe, do objeto DataFrame\n",
    "# printa o objeto na memória, a quantidade de linhas, informações sobre cada coluna:\n",
    "# nome da variável, se tem (e quantos são) dados nulos e o tipo armazenado na coluna\n",
    "mtcars.info()\n",
    "pokedex.info()\n",
    "\n",
    "# primeiras linhas\n",
    "print(pokedex.head(10))# primeiras 10 linhas\n",
    "\n",
    "# útlimas linhas\n",
    "print(mtcars.tail(10))# últimas 10 linhas"
   ]
  },
  {
   "cell_type": "code",
   "execution_count": 27,
   "metadata": {},
   "outputs": [
    {
     "name": "stdout",
     "output_type": "stream",
     "text": [
      "6.1875\n",
      "6.0\n",
      "8\n",
      "vendo duplicatas\n",
      "0     False\n",
      "1     False\n",
      "2     False\n",
      "3     False\n",
      "4     False\n",
      "5     False\n",
      "6     False\n",
      "7     False\n",
      "8     False\n",
      "9     False\n",
      "10    False\n",
      "11    False\n",
      "12    False\n",
      "13    False\n",
      "14    False\n",
      "15    False\n",
      "16    False\n",
      "17    False\n",
      "18    False\n",
      "19    False\n",
      "20    False\n",
      "21    False\n",
      "22    False\n",
      "23    False\n",
      "24    False\n",
      "25    False\n",
      "26    False\n",
      "27    False\n",
      "28    False\n",
      "29    False\n",
      "30    False\n",
      "31    False\n",
      "dtype: bool\n"
     ]
    }
   ],
   "source": [
    "# não fiz nenhum procedimento de limpeza de base de dados para linhas vazias\n",
    "# porque nenhum dos dois dataframes tem esse problema\n",
    "\n",
    "print(mtcars[\"cyl\"].mean())\n",
    "print(mtcars[\"cyl\"].median())\n",
    "print(mtcars[\"cyl\"].mode()[0])\n",
    "\n",
    "# vendo duplicatas\n",
    "print(\"vendo duplicatas\")\n",
    "print(mtcars.duplicated())\n",
    "\n",
    "# removendo duplicatas\n",
    "# (não vai fazer nada nesse dataframe)\n",
    "mtcars.drop_duplicates(inplace = True)"
   ]
  },
  {
   "cell_type": "code",
   "execution_count": 28,
   "metadata": {},
   "outputs": [
    {
     "name": "stdout",
     "output_type": "stream",
     "text": [
      "Base de dados sem os nomes dos modelos\n",
      "    mpg  cyl   disp   hp  drat     wt   qsec  vs  am  gear  carb\n",
      "0  21.0    6  160.0  110  3.90  2.620  16.46   0   1     4     4\n",
      "1  21.0    6  160.0  110  3.90  2.875  17.02   0   1     4     4\n",
      "2  22.8    4  108.0   93  3.85  2.320  18.61   1   1     4     1\n",
      "3  21.4    6  258.0  110  3.08  3.215  19.44   1   0     3     1\n",
      "4  18.7    8  360.0  175  3.15  3.440  17.02   0   0     3     2\n",
      "Correlações\n",
      "           mpg       cyl      disp        hp      drat        wt      qsec  \\\n",
      "mpg   1.000000 -0.852162 -0.847551 -0.776168  0.681172 -0.867659  0.418684   \n",
      "cyl  -0.852162  1.000000  0.902033  0.832447 -0.699938  0.782496 -0.591242   \n",
      "disp -0.847551  0.902033  1.000000  0.790949 -0.710214  0.887980 -0.433698   \n",
      "hp   -0.776168  0.832447  0.790949  1.000000 -0.448759  0.658748 -0.708223   \n",
      "drat  0.681172 -0.699938 -0.710214 -0.448759  1.000000 -0.712441  0.091205   \n",
      "wt   -0.867659  0.782496  0.887980  0.658748 -0.712441  1.000000 -0.174716   \n",
      "qsec  0.418684 -0.591242 -0.433698 -0.708223  0.091205 -0.174716  1.000000   \n",
      "vs    0.664039 -0.810812 -0.710416 -0.723097  0.440278 -0.554916  0.744535   \n",
      "am    0.599832 -0.522607 -0.591227 -0.243204  0.712711 -0.692495 -0.229861   \n",
      "gear  0.480285 -0.492687 -0.555569 -0.125704  0.699610 -0.583287 -0.212682   \n",
      "carb -0.550925  0.526988  0.394977  0.749812 -0.090790  0.427606 -0.656249   \n",
      "\n",
      "            vs        am      gear      carb  \n",
      "mpg   0.664039  0.599832  0.480285 -0.550925  \n",
      "cyl  -0.810812 -0.522607 -0.492687  0.526988  \n",
      "disp -0.710416 -0.591227 -0.555569  0.394977  \n",
      "hp   -0.723097 -0.243204 -0.125704  0.749812  \n",
      "drat  0.440278  0.712711  0.699610 -0.090790  \n",
      "wt   -0.554916 -0.692495 -0.583287  0.427606  \n",
      "qsec  0.744535 -0.229861 -0.212682 -0.656249  \n",
      "vs    1.000000  0.168345  0.206023 -0.569607  \n",
      "am    0.168345  1.000000  0.794059  0.057534  \n",
      "gear  0.206023  0.794059  1.000000  0.274073  \n",
      "carb -0.569607  0.057534  0.274073  1.000000  \n"
     ]
    }
   ],
   "source": [
    "# correlação\n",
    "# a correlação \"corr()\" calcula as correlações entre cada coluna (variável)\n",
    "# dentro do dataframe\n",
    "# o método ignora colunas que tenham dados não numéricos\n",
    "\n",
    "mtcars_sem_modelos = mtcars.drop(columns = [\"model\"])\n",
    "print(\"Base de dados sem os nomes dos modelos\")\n",
    "print(mtcars_sem_modelos.head())\n",
    "print(\"Correlações\")\n",
    "print(mtcars_sem_modelos.corr())"
   ]
  }
 ],
 "metadata": {
  "kernelspec": {
   "display_name": "Python 3",
   "language": "python",
   "name": "python3"
  },
  "language_info": {
   "codemirror_mode": {
    "name": "ipython",
    "version": 3
   },
   "file_extension": ".py",
   "mimetype": "text/x-python",
   "name": "python",
   "nbconvert_exporter": "python",
   "pygments_lexer": "ipython3",
   "version": "3.11.1"
  },
  "orig_nbformat": 4,
  "vscode": {
   "interpreter": {
    "hash": "5238573367df39f7286bb46f9ff5f08f63a01a80960060ce41e3c79b190280fa"
   }
  }
 },
 "nbformat": 4,
 "nbformat_minor": 2
}
